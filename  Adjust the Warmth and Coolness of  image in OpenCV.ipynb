{
 "cells": [
  {
   "cell_type": "code",
   "execution_count": null,
   "id": "e0c6eebf",
   "metadata": {},
   "outputs": [],
   "source": [
    "#What is tonal in image?\n",
    "#Tonal range refers to the levels between an image's darkest and lightest points"
   ]
  },
  {
   "cell_type": "code",
   "execution_count": null,
   "id": "a891c2e3",
   "metadata": {},
   "outputs": [],
   "source": []
  },
  {
   "cell_type": "markdown",
   "id": "cac5caf7",
   "metadata": {},
   "source": [
    "# adding tone"
   ]
  },
  {
   "cell_type": "code",
   "execution_count": 2,
   "id": "c77001be",
   "metadata": {},
   "outputs": [
    {
     "ename": "SyntaxError",
     "evalue": "'(' was never closed (3840107441.py, line 4)",
     "output_type": "error",
     "traceback": [
      "\u001b[1;36m  Cell \u001b[1;32mIn[2], line 4\u001b[1;36m\u001b[0m\n\u001b[1;33m    def add_tone(img,color,a,b\u001b[0m\n\u001b[1;37m                ^\u001b[0m\n\u001b[1;31mSyntaxError\u001b[0m\u001b[1;31m:\u001b[0m '(' was never closed\n"
     ]
    }
   ],
   "source": [
    "import cv2\n",
    "import numpy as np\n",
    "\n",
    "def add_tone(img,color,a,b):\n",
    "    img = cv2.imread('img1.jpg')\n",
    "    \n",
    "    color = []  # Adjusted color values to BGR format\n",
    "\n",
    "    row, column, _ = img.shape\n",
    "\n",
    "    background = []\n",
    "\n",
    "    for i in range(row):\n",
    "    temp = []\n",
    "    for j in range(column):\n",
    "        temp.append(color)\n",
    "    background.append(temp)\n",
    "\n",
    "    background = np.array(background).astype(np.uint8)\n",
    "    final = cv2.addWeighted(img, a, background, b 0)\n",
    "\n",
    "    cv2.imshow('Final Image', final)\n",
    "    cv2.waitKey(0)\n",
    "    cv2.destroyAllWindows()\n",
    "    \n",
    "add_tone()"
   ]
  },
  {
   "cell_type": "code",
   "execution_count": null,
   "id": "50477e32",
   "metadata": {},
   "outputs": [],
   "source": []
  },
  {
   "cell_type": "code",
   "execution_count": null,
   "id": "9a713287",
   "metadata": {},
   "outputs": [],
   "source": []
  },
  {
   "cell_type": "code",
   "execution_count": null,
   "id": "96a5698e",
   "metadata": {},
   "outputs": [],
   "source": []
  }
 ],
 "metadata": {
  "kernelspec": {
   "display_name": "Python 3 (ipykernel)",
   "language": "python",
   "name": "python3"
  },
  "language_info": {
   "codemirror_mode": {
    "name": "ipython",
    "version": 3
   },
   "file_extension": ".py",
   "mimetype": "text/x-python",
   "name": "python",
   "nbconvert_exporter": "python",
   "pygments_lexer": "ipython3",
   "version": "3.11.4"
  }
 },
 "nbformat": 4,
 "nbformat_minor": 5
}
